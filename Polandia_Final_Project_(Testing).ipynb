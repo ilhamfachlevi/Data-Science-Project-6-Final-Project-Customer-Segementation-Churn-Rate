{
  "nbformat": 4,
  "nbformat_minor": 0,
  "metadata": {
    "colab": {
      "provenance": [],
      "include_colab_link": true
    },
    "kernelspec": {
      "name": "python3",
      "display_name": "Python 3"
    },
    "language_info": {
      "name": "python"
    }
  },
  "cells": [
    {
      "cell_type": "markdown",
      "metadata": {
        "id": "view-in-github",
        "colab_type": "text"
      },
      "source": [
        "<a href=\"https://colab.research.google.com/github/ilhamfachlevi/Data-Science-Project-6-Final-Project-Customer-Segementation-Churn-Rate/blob/main/Polandia_Final_Project_(Testing).ipynb\" target=\"_parent\"><img src=\"https://colab.research.google.com/assets/colab-badge.svg\" alt=\"Open In Colab\"/></a>"
      ]
    },
    {
      "cell_type": "markdown",
      "source": [
        "Ini adalah notebook untuk melakukan **Pengujian Model**"
      ],
      "metadata": {
        "id": "7MV5M_WYJBxR"
      }
    },
    {
      "cell_type": "markdown",
      "source": [
        "Setelah dilakukan perbandingan dari model-model yang dibuat, dipilih beberapa model yang dianggap bagus dalam mengolah data, yaitu\n",
        "\n",
        "\n",
        "1.   KNeighbors Classifier\n",
        "2.   Decision Tree Classifier\n",
        "3. Extra Trees Classifier\n",
        "4. Random Forest Classifier\n",
        "\n",
        "selanjutnya, data tes dimasukkan ke model yang dibuat untuk diprediksi dan dihitung akurasinya."
      ],
      "metadata": {
        "id": "Eu5gwZT6JNTQ"
      }
    },
    {
      "cell_type": "code",
      "execution_count": null,
      "metadata": {
        "id": "7CyXEAjmBifI",
        "colab": {
          "base_uri": "https://localhost:8080/"
        },
        "outputId": "81e50159-c1b6-4b0f-aa9a-b080ffb3e543"
      },
      "outputs": [
        {
          "output_type": "stream",
          "name": "stdout",
          "text": [
            "Mounted at /content/drive\n"
          ]
        }
      ],
      "source": [
        "from google.colab import drive\n",
        "drive.mount('/content/drive')"
      ]
    },
    {
      "cell_type": "code",
      "source": [
        "import pandas as pd"
      ],
      "metadata": {
        "id": "7usDFn03JURY"
      },
      "execution_count": null,
      "outputs": []
    },
    {
      "cell_type": "code",
      "source": [
        "df = pd.read_csv('/content/drive/MyDrive/Data Polandia/df_encode.csv')\n",
        "df.head()"
      ],
      "metadata": {
        "colab": {
          "base_uri": "https://localhost:8080/",
          "height": 206
        },
        "id": "vwv6Vw5vJgE2",
        "outputId": "941a5547-23ed-4c7b-cdc4-0eefd69dc1da"
      },
      "execution_count": null,
      "outputs": [
        {
          "output_type": "execute_result",
          "data": {
            "text/plain": [
              "   payment_method  payment_status  promo_amount  promo_code  shipment_fee  \\\n",
              "0               0               1             0           8          5000   \n",
              "1               0               1             0           8          5000   \n",
              "2               0               1             0           8          5000   \n",
              "3               0               1             0           8          5000   \n",
              "4               1               1          7255           0         10000   \n",
              "\n",
              "   total_amount  quantity  item_price  shipment_duration  event_name  \\\n",
              "0       1078709         3      357903                  2           4   \n",
              "1       1078709         3      357903                  2           1   \n",
              "2       1078709         3      357903                  2           2   \n",
              "3       1078709         3      357903                  2           8   \n",
              "4        311231         1      308486                  3           4   \n",
              "\n",
              "   traffic_source  is_churn  \n",
              "0               0         1  \n",
              "1               0         1  \n",
              "2               0         1  \n",
              "3               0         1  \n",
              "4               0         1  "
            ],
            "text/html": [
              "\n",
              "  <div id=\"df-1a677a82-8e70-43da-94a4-0d55dcae95b1\">\n",
              "    <div class=\"colab-df-container\">\n",
              "      <div>\n",
              "<style scoped>\n",
              "    .dataframe tbody tr th:only-of-type {\n",
              "        vertical-align: middle;\n",
              "    }\n",
              "\n",
              "    .dataframe tbody tr th {\n",
              "        vertical-align: top;\n",
              "    }\n",
              "\n",
              "    .dataframe thead th {\n",
              "        text-align: right;\n",
              "    }\n",
              "</style>\n",
              "<table border=\"1\" class=\"dataframe\">\n",
              "  <thead>\n",
              "    <tr style=\"text-align: right;\">\n",
              "      <th></th>\n",
              "      <th>payment_method</th>\n",
              "      <th>payment_status</th>\n",
              "      <th>promo_amount</th>\n",
              "      <th>promo_code</th>\n",
              "      <th>shipment_fee</th>\n",
              "      <th>total_amount</th>\n",
              "      <th>quantity</th>\n",
              "      <th>item_price</th>\n",
              "      <th>shipment_duration</th>\n",
              "      <th>event_name</th>\n",
              "      <th>traffic_source</th>\n",
              "      <th>is_churn</th>\n",
              "    </tr>\n",
              "  </thead>\n",
              "  <tbody>\n",
              "    <tr>\n",
              "      <th>0</th>\n",
              "      <td>0</td>\n",
              "      <td>1</td>\n",
              "      <td>0</td>\n",
              "      <td>8</td>\n",
              "      <td>5000</td>\n",
              "      <td>1078709</td>\n",
              "      <td>3</td>\n",
              "      <td>357903</td>\n",
              "      <td>2</td>\n",
              "      <td>4</td>\n",
              "      <td>0</td>\n",
              "      <td>1</td>\n",
              "    </tr>\n",
              "    <tr>\n",
              "      <th>1</th>\n",
              "      <td>0</td>\n",
              "      <td>1</td>\n",
              "      <td>0</td>\n",
              "      <td>8</td>\n",
              "      <td>5000</td>\n",
              "      <td>1078709</td>\n",
              "      <td>3</td>\n",
              "      <td>357903</td>\n",
              "      <td>2</td>\n",
              "      <td>1</td>\n",
              "      <td>0</td>\n",
              "      <td>1</td>\n",
              "    </tr>\n",
              "    <tr>\n",
              "      <th>2</th>\n",
              "      <td>0</td>\n",
              "      <td>1</td>\n",
              "      <td>0</td>\n",
              "      <td>8</td>\n",
              "      <td>5000</td>\n",
              "      <td>1078709</td>\n",
              "      <td>3</td>\n",
              "      <td>357903</td>\n",
              "      <td>2</td>\n",
              "      <td>2</td>\n",
              "      <td>0</td>\n",
              "      <td>1</td>\n",
              "    </tr>\n",
              "    <tr>\n",
              "      <th>3</th>\n",
              "      <td>0</td>\n",
              "      <td>1</td>\n",
              "      <td>0</td>\n",
              "      <td>8</td>\n",
              "      <td>5000</td>\n",
              "      <td>1078709</td>\n",
              "      <td>3</td>\n",
              "      <td>357903</td>\n",
              "      <td>2</td>\n",
              "      <td>8</td>\n",
              "      <td>0</td>\n",
              "      <td>1</td>\n",
              "    </tr>\n",
              "    <tr>\n",
              "      <th>4</th>\n",
              "      <td>1</td>\n",
              "      <td>1</td>\n",
              "      <td>7255</td>\n",
              "      <td>0</td>\n",
              "      <td>10000</td>\n",
              "      <td>311231</td>\n",
              "      <td>1</td>\n",
              "      <td>308486</td>\n",
              "      <td>3</td>\n",
              "      <td>4</td>\n",
              "      <td>0</td>\n",
              "      <td>1</td>\n",
              "    </tr>\n",
              "  </tbody>\n",
              "</table>\n",
              "</div>\n",
              "      <button class=\"colab-df-convert\" onclick=\"convertToInteractive('df-1a677a82-8e70-43da-94a4-0d55dcae95b1')\"\n",
              "              title=\"Convert this dataframe to an interactive table.\"\n",
              "              style=\"display:none;\">\n",
              "        \n",
              "  <svg xmlns=\"http://www.w3.org/2000/svg\" height=\"24px\"viewBox=\"0 0 24 24\"\n",
              "       width=\"24px\">\n",
              "    <path d=\"M0 0h24v24H0V0z\" fill=\"none\"/>\n",
              "    <path d=\"M18.56 5.44l.94 2.06.94-2.06 2.06-.94-2.06-.94-.94-2.06-.94 2.06-2.06.94zm-11 1L8.5 8.5l.94-2.06 2.06-.94-2.06-.94L8.5 2.5l-.94 2.06-2.06.94zm10 10l.94 2.06.94-2.06 2.06-.94-2.06-.94-.94-2.06-.94 2.06-2.06.94z\"/><path d=\"M17.41 7.96l-1.37-1.37c-.4-.4-.92-.59-1.43-.59-.52 0-1.04.2-1.43.59L10.3 9.45l-7.72 7.72c-.78.78-.78 2.05 0 2.83L4 21.41c.39.39.9.59 1.41.59.51 0 1.02-.2 1.41-.59l7.78-7.78 2.81-2.81c.8-.78.8-2.07 0-2.86zM5.41 20L4 18.59l7.72-7.72 1.47 1.35L5.41 20z\"/>\n",
              "  </svg>\n",
              "      </button>\n",
              "      \n",
              "  <style>\n",
              "    .colab-df-container {\n",
              "      display:flex;\n",
              "      flex-wrap:wrap;\n",
              "      gap: 12px;\n",
              "    }\n",
              "\n",
              "    .colab-df-convert {\n",
              "      background-color: #E8F0FE;\n",
              "      border: none;\n",
              "      border-radius: 50%;\n",
              "      cursor: pointer;\n",
              "      display: none;\n",
              "      fill: #1967D2;\n",
              "      height: 32px;\n",
              "      padding: 0 0 0 0;\n",
              "      width: 32px;\n",
              "    }\n",
              "\n",
              "    .colab-df-convert:hover {\n",
              "      background-color: #E2EBFA;\n",
              "      box-shadow: 0px 1px 2px rgba(60, 64, 67, 0.3), 0px 1px 3px 1px rgba(60, 64, 67, 0.15);\n",
              "      fill: #174EA6;\n",
              "    }\n",
              "\n",
              "    [theme=dark] .colab-df-convert {\n",
              "      background-color: #3B4455;\n",
              "      fill: #D2E3FC;\n",
              "    }\n",
              "\n",
              "    [theme=dark] .colab-df-convert:hover {\n",
              "      background-color: #434B5C;\n",
              "      box-shadow: 0px 1px 3px 1px rgba(0, 0, 0, 0.15);\n",
              "      filter: drop-shadow(0px 1px 2px rgba(0, 0, 0, 0.3));\n",
              "      fill: #FFFFFF;\n",
              "    }\n",
              "  </style>\n",
              "\n",
              "      <script>\n",
              "        const buttonEl =\n",
              "          document.querySelector('#df-1a677a82-8e70-43da-94a4-0d55dcae95b1 button.colab-df-convert');\n",
              "        buttonEl.style.display =\n",
              "          google.colab.kernel.accessAllowed ? 'block' : 'none';\n",
              "\n",
              "        async function convertToInteractive(key) {\n",
              "          const element = document.querySelector('#df-1a677a82-8e70-43da-94a4-0d55dcae95b1');\n",
              "          const dataTable =\n",
              "            await google.colab.kernel.invokeFunction('convertToInteractive',\n",
              "                                                     [key], {});\n",
              "          if (!dataTable) return;\n",
              "\n",
              "          const docLinkHtml = 'Like what you see? Visit the ' +\n",
              "            '<a target=\"_blank\" href=https://colab.research.google.com/notebooks/data_table.ipynb>data table notebook</a>'\n",
              "            + ' to learn more about interactive tables.';\n",
              "          element.innerHTML = '';\n",
              "          dataTable['output_type'] = 'display_data';\n",
              "          await google.colab.output.renderOutput(dataTable, element);\n",
              "          const docLink = document.createElement('div');\n",
              "          docLink.innerHTML = docLinkHtml;\n",
              "          element.appendChild(docLink);\n",
              "        }\n",
              "      </script>\n",
              "    </div>\n",
              "  </div>\n",
              "  "
            ]
          },
          "metadata": {},
          "execution_count": 3
        }
      ]
    },
    {
      "cell_type": "markdown",
      "source": [
        "# Machine Learning Models"
      ],
      "metadata": {
        "id": "LIanoXr7JmIg"
      }
    },
    {
      "cell_type": "code",
      "source": [
        "# Mengimport Library untuk membagi data train dan test dan melakukan perhitungan pemodelan\n",
        "from sklearn.model_selection import train_test_split\n",
        "from sklearn import metrics\n",
        "\n",
        "import warnings\n",
        "warnings.filterwarnings('ignore')"
      ],
      "metadata": {
        "id": "GafDQ76KJiC9"
      },
      "execution_count": null,
      "outputs": []
    },
    {
      "cell_type": "code",
      "source": [
        "X = df.drop(columns=['is_churn'])\n",
        "y = df['is_churn']\n",
        "\n",
        "X_train, X_test, y_train, y_test = train_test_split(X,y, test_size = 0.3, random_state = 42)"
      ],
      "metadata": {
        "id": "I0LfO8HoJraS"
      },
      "execution_count": null,
      "outputs": []
    },
    {
      "cell_type": "markdown",
      "source": [
        "## Modelling and Accuracy"
      ],
      "metadata": {
        "id": "ic3VJyDWJuE9"
      }
    },
    {
      "cell_type": "markdown",
      "source": [
        "### KNeighbors Classifier"
      ],
      "metadata": {
        "id": "zdlUdeHNJ45G"
      }
    },
    {
      "cell_type": "code",
      "source": [
        "from sklearn.neighbors import KNeighborsClassifier\n",
        "\n",
        "KNN = KNeighborsClassifier(n_neighbors = 5)\n",
        "KNN.fit(X_train, y_train)\n",
        "y_predict_KNN = KNN.predict(X_test)\n",
        "print('KNeighbors Accuracy : ', metrics.accuracy_score(y_test, y_predict_KNN))\n",
        "print(metrics.classification_report(y_test, y_predict_KNN))\n",
        "\n",
        "# Menyimpan hasil akurasi model\n",
        "knn = metrics.accuracy_score(y_test, y_predict_KNN)"
      ],
      "metadata": {
        "colab": {
          "base_uri": "https://localhost:8080/"
        },
        "id": "rCBWgLyeJzfT",
        "outputId": "dc70eb5e-2aef-4cbb-c198-2cd3ab677866"
      },
      "execution_count": null,
      "outputs": [
        {
          "output_type": "stream",
          "name": "stdout",
          "text": [
            "KNeighbors Accuracy :  0.9817267335988548\n",
            "              precision    recall  f1-score   support\n",
            "\n",
            "           0       0.98      0.99      0.99    839687\n",
            "           1       0.98      0.96      0.97    392605\n",
            "\n",
            "    accuracy                           0.98   1232292\n",
            "   macro avg       0.98      0.98      0.98   1232292\n",
            "weighted avg       0.98      0.98      0.98   1232292\n",
            "\n"
          ]
        }
      ]
    },
    {
      "cell_type": "markdown",
      "source": [
        "### Decision Tree"
      ],
      "metadata": {
        "id": "DM-ggOWmJ91c"
      }
    },
    {
      "cell_type": "code",
      "source": [
        "from sklearn import tree\n",
        "\n",
        "DT = tree.DecisionTreeClassifier()\n",
        "DT.fit(X_train, y_train)\n",
        "y_predict_DT = DT.predict(X_test)\n",
        "print('Decision Tree Accuracy : ', metrics.accuracy_score(y_test, y_predict_DT))\n",
        "print(metrics.classification_report(y_test, y_predict_DT))\n",
        "\n",
        "# Menyimpan hasil akurasi model\n",
        "dt = metrics.accuracy_score(y_test, y_predict_DT)"
      ],
      "metadata": {
        "colab": {
          "base_uri": "https://localhost:8080/"
        },
        "id": "2C3RPGtaJ__0",
        "outputId": "297f3506-228e-486c-b6ac-78605f87c3c1"
      },
      "execution_count": null,
      "outputs": [
        {
          "output_type": "stream",
          "name": "stdout",
          "text": [
            "Decision Tree Accuracy :  0.9220801563265849\n",
            "              precision    recall  f1-score   support\n",
            "\n",
            "           0       0.94      0.94      0.94    839687\n",
            "           1       0.88      0.87      0.88    392605\n",
            "\n",
            "    accuracy                           0.92   1232292\n",
            "   macro avg       0.91      0.91      0.91   1232292\n",
            "weighted avg       0.92      0.92      0.92   1232292\n",
            "\n"
          ]
        }
      ]
    },
    {
      "cell_type": "markdown",
      "source": [
        "### Extra Trees Classifier"
      ],
      "metadata": {
        "id": "RG-0OH_cKJtc"
      }
    },
    {
      "cell_type": "code",
      "source": [
        "from sklearn.ensemble import ExtraTreesClassifier\n",
        "\n",
        "ET = ExtraTreesClassifier(n_estimators=50)\n",
        "ET.fit(X_train, y_train)\n",
        "y_predict_ET = ET.predict(X_test)\n",
        "print('Extra Trees Accuracy : ', metrics.accuracy_score(y_test, y_predict_ET))\n",
        "print(metrics.classification_report(y_test, y_predict_ET))\n",
        "\n",
        "# Menyimpan hasil akurasi model\n",
        "et = metrics.accuracy_score(y_test, y_predict_ET)"
      ],
      "metadata": {
        "colab": {
          "base_uri": "https://localhost:8080/"
        },
        "id": "pBCYx7TpJ8_n",
        "outputId": "0b176f8b-bc3f-4f20-e6a5-0f87bf83824b"
      },
      "execution_count": null,
      "outputs": [
        {
          "output_type": "stream",
          "name": "stdout",
          "text": [
            "Extra Trees Accuracy :  0.9217474429761777\n",
            "              precision    recall  f1-score   support\n",
            "\n",
            "           0       0.93      0.96      0.94    839687\n",
            "           1       0.90      0.85      0.87    392605\n",
            "\n",
            "    accuracy                           0.92   1232292\n",
            "   macro avg       0.92      0.90      0.91   1232292\n",
            "weighted avg       0.92      0.92      0.92   1232292\n",
            "\n"
          ]
        }
      ]
    },
    {
      "cell_type": "markdown",
      "source": [
        "### Random Forest Classifier"
      ],
      "metadata": {
        "id": "4yOpg2ufKTMk"
      }
    },
    {
      "cell_type": "code",
      "source": [
        "from sklearn.ensemble import RandomForestClassifier\n",
        "\n",
        "RF = RandomForestClassifier(n_estimators=50)\n",
        "RF.fit(X_train, y_train)\n",
        "y_predict_RF = RF.predict(X_test)\n",
        "print('Random Forest Accuracy : ', metrics.accuracy_score(y_test, y_predict_RF))\n",
        "print(metrics.classification_report(y_test, y_predict_RF))\n",
        "\n",
        "# Menyimpan hasil akurasi model\n",
        "rf = metrics.accuracy_score(y_test, y_predict_RF)"
      ],
      "metadata": {
        "colab": {
          "base_uri": "https://localhost:8080/"
        },
        "id": "4VVcY97BKcic",
        "outputId": "80c3b595-8213-4b7e-8cf0-e20e5ee4d908"
      },
      "execution_count": null,
      "outputs": [
        {
          "output_type": "stream",
          "name": "stdout",
          "text": [
            "Random Forest Accuracy :  0.92188783178013\n",
            "              precision    recall  f1-score   support\n",
            "\n",
            "           0       0.93      0.96      0.94    839687\n",
            "           1       0.90      0.84      0.87    392605\n",
            "\n",
            "    accuracy                           0.92   1232292\n",
            "   macro avg       0.92      0.90      0.91   1232292\n",
            "weighted avg       0.92      0.92      0.92   1232292\n",
            "\n"
          ]
        }
      ]
    },
    {
      "cell_type": "markdown",
      "source": [
        "# Pengujian Model"
      ],
      "metadata": {
        "id": "M89QUnm4Kfqh"
      }
    },
    {
      "cell_type": "code",
      "source": [
        "df_test = pd.read_csv('/content/drive/MyDrive/Data Polandia/month7_encoded.csv')\n",
        "df_test.head()"
      ],
      "metadata": {
        "colab": {
          "base_uri": "https://localhost:8080/",
          "height": 206
        },
        "id": "8ZZnhu2mKtHY",
        "outputId": "392dec77-66a7-467f-990d-d1ca9055ea46"
      },
      "execution_count": null,
      "outputs": [
        {
          "output_type": "execute_result",
          "data": {
            "text/plain": [
              "   payment_method  payment_status  promo_amount  promo_code  shipment_fee  \\\n",
              "0               4               1          9376           1         10000   \n",
              "1               4               1          9376           1         10000   \n",
              "2               4               1          9376           1         10000   \n",
              "3               4               1          9376           1         10000   \n",
              "4               4               1          9376           1         10000   \n",
              "\n",
              "   total_amount  quantity  item_price  shipment_duration  event_name  \\\n",
              "0        171940         1      171316                  4           1   \n",
              "1        171940         1      171316                  4           0   \n",
              "2        171940         1      171316                  4           2   \n",
              "3        171940         1      171316                  4           6   \n",
              "4        171940         1      171316                  4           5   \n",
              "\n",
              "   traffic_source  \n",
              "0               0  \n",
              "1               0  \n",
              "2               0  \n",
              "3               0  \n",
              "4               0  "
            ],
            "text/html": [
              "\n",
              "  <div id=\"df-b6c5db48-ed0c-4c41-8032-7c2c515436c8\">\n",
              "    <div class=\"colab-df-container\">\n",
              "      <div>\n",
              "<style scoped>\n",
              "    .dataframe tbody tr th:only-of-type {\n",
              "        vertical-align: middle;\n",
              "    }\n",
              "\n",
              "    .dataframe tbody tr th {\n",
              "        vertical-align: top;\n",
              "    }\n",
              "\n",
              "    .dataframe thead th {\n",
              "        text-align: right;\n",
              "    }\n",
              "</style>\n",
              "<table border=\"1\" class=\"dataframe\">\n",
              "  <thead>\n",
              "    <tr style=\"text-align: right;\">\n",
              "      <th></th>\n",
              "      <th>payment_method</th>\n",
              "      <th>payment_status</th>\n",
              "      <th>promo_amount</th>\n",
              "      <th>promo_code</th>\n",
              "      <th>shipment_fee</th>\n",
              "      <th>total_amount</th>\n",
              "      <th>quantity</th>\n",
              "      <th>item_price</th>\n",
              "      <th>shipment_duration</th>\n",
              "      <th>event_name</th>\n",
              "      <th>traffic_source</th>\n",
              "    </tr>\n",
              "  </thead>\n",
              "  <tbody>\n",
              "    <tr>\n",
              "      <th>0</th>\n",
              "      <td>4</td>\n",
              "      <td>1</td>\n",
              "      <td>9376</td>\n",
              "      <td>1</td>\n",
              "      <td>10000</td>\n",
              "      <td>171940</td>\n",
              "      <td>1</td>\n",
              "      <td>171316</td>\n",
              "      <td>4</td>\n",
              "      <td>1</td>\n",
              "      <td>0</td>\n",
              "    </tr>\n",
              "    <tr>\n",
              "      <th>1</th>\n",
              "      <td>4</td>\n",
              "      <td>1</td>\n",
              "      <td>9376</td>\n",
              "      <td>1</td>\n",
              "      <td>10000</td>\n",
              "      <td>171940</td>\n",
              "      <td>1</td>\n",
              "      <td>171316</td>\n",
              "      <td>4</td>\n",
              "      <td>0</td>\n",
              "      <td>0</td>\n",
              "    </tr>\n",
              "    <tr>\n",
              "      <th>2</th>\n",
              "      <td>4</td>\n",
              "      <td>1</td>\n",
              "      <td>9376</td>\n",
              "      <td>1</td>\n",
              "      <td>10000</td>\n",
              "      <td>171940</td>\n",
              "      <td>1</td>\n",
              "      <td>171316</td>\n",
              "      <td>4</td>\n",
              "      <td>2</td>\n",
              "      <td>0</td>\n",
              "    </tr>\n",
              "    <tr>\n",
              "      <th>3</th>\n",
              "      <td>4</td>\n",
              "      <td>1</td>\n",
              "      <td>9376</td>\n",
              "      <td>1</td>\n",
              "      <td>10000</td>\n",
              "      <td>171940</td>\n",
              "      <td>1</td>\n",
              "      <td>171316</td>\n",
              "      <td>4</td>\n",
              "      <td>6</td>\n",
              "      <td>0</td>\n",
              "    </tr>\n",
              "    <tr>\n",
              "      <th>4</th>\n",
              "      <td>4</td>\n",
              "      <td>1</td>\n",
              "      <td>9376</td>\n",
              "      <td>1</td>\n",
              "      <td>10000</td>\n",
              "      <td>171940</td>\n",
              "      <td>1</td>\n",
              "      <td>171316</td>\n",
              "      <td>4</td>\n",
              "      <td>5</td>\n",
              "      <td>0</td>\n",
              "    </tr>\n",
              "  </tbody>\n",
              "</table>\n",
              "</div>\n",
              "      <button class=\"colab-df-convert\" onclick=\"convertToInteractive('df-b6c5db48-ed0c-4c41-8032-7c2c515436c8')\"\n",
              "              title=\"Convert this dataframe to an interactive table.\"\n",
              "              style=\"display:none;\">\n",
              "        \n",
              "  <svg xmlns=\"http://www.w3.org/2000/svg\" height=\"24px\"viewBox=\"0 0 24 24\"\n",
              "       width=\"24px\">\n",
              "    <path d=\"M0 0h24v24H0V0z\" fill=\"none\"/>\n",
              "    <path d=\"M18.56 5.44l.94 2.06.94-2.06 2.06-.94-2.06-.94-.94-2.06-.94 2.06-2.06.94zm-11 1L8.5 8.5l.94-2.06 2.06-.94-2.06-.94L8.5 2.5l-.94 2.06-2.06.94zm10 10l.94 2.06.94-2.06 2.06-.94-2.06-.94-.94-2.06-.94 2.06-2.06.94z\"/><path d=\"M17.41 7.96l-1.37-1.37c-.4-.4-.92-.59-1.43-.59-.52 0-1.04.2-1.43.59L10.3 9.45l-7.72 7.72c-.78.78-.78 2.05 0 2.83L4 21.41c.39.39.9.59 1.41.59.51 0 1.02-.2 1.41-.59l7.78-7.78 2.81-2.81c.8-.78.8-2.07 0-2.86zM5.41 20L4 18.59l7.72-7.72 1.47 1.35L5.41 20z\"/>\n",
              "  </svg>\n",
              "      </button>\n",
              "      \n",
              "  <style>\n",
              "    .colab-df-container {\n",
              "      display:flex;\n",
              "      flex-wrap:wrap;\n",
              "      gap: 12px;\n",
              "    }\n",
              "\n",
              "    .colab-df-convert {\n",
              "      background-color: #E8F0FE;\n",
              "      border: none;\n",
              "      border-radius: 50%;\n",
              "      cursor: pointer;\n",
              "      display: none;\n",
              "      fill: #1967D2;\n",
              "      height: 32px;\n",
              "      padding: 0 0 0 0;\n",
              "      width: 32px;\n",
              "    }\n",
              "\n",
              "    .colab-df-convert:hover {\n",
              "      background-color: #E2EBFA;\n",
              "      box-shadow: 0px 1px 2px rgba(60, 64, 67, 0.3), 0px 1px 3px 1px rgba(60, 64, 67, 0.15);\n",
              "      fill: #174EA6;\n",
              "    }\n",
              "\n",
              "    [theme=dark] .colab-df-convert {\n",
              "      background-color: #3B4455;\n",
              "      fill: #D2E3FC;\n",
              "    }\n",
              "\n",
              "    [theme=dark] .colab-df-convert:hover {\n",
              "      background-color: #434B5C;\n",
              "      box-shadow: 0px 1px 3px 1px rgba(0, 0, 0, 0.15);\n",
              "      filter: drop-shadow(0px 1px 2px rgba(0, 0, 0, 0.3));\n",
              "      fill: #FFFFFF;\n",
              "    }\n",
              "  </style>\n",
              "\n",
              "      <script>\n",
              "        const buttonEl =\n",
              "          document.querySelector('#df-b6c5db48-ed0c-4c41-8032-7c2c515436c8 button.colab-df-convert');\n",
              "        buttonEl.style.display =\n",
              "          google.colab.kernel.accessAllowed ? 'block' : 'none';\n",
              "\n",
              "        async function convertToInteractive(key) {\n",
              "          const element = document.querySelector('#df-b6c5db48-ed0c-4c41-8032-7c2c515436c8');\n",
              "          const dataTable =\n",
              "            await google.colab.kernel.invokeFunction('convertToInteractive',\n",
              "                                                     [key], {});\n",
              "          if (!dataTable) return;\n",
              "\n",
              "          const docLinkHtml = 'Like what you see? Visit the ' +\n",
              "            '<a target=\"_blank\" href=https://colab.research.google.com/notebooks/data_table.ipynb>data table notebook</a>'\n",
              "            + ' to learn more about interactive tables.';\n",
              "          element.innerHTML = '';\n",
              "          dataTable['output_type'] = 'display_data';\n",
              "          await google.colab.output.renderOutput(dataTable, element);\n",
              "          const docLink = document.createElement('div');\n",
              "          docLink.innerHTML = docLinkHtml;\n",
              "          element.appendChild(docLink);\n",
              "        }\n",
              "      </script>\n",
              "    </div>\n",
              "  </div>\n",
              "  "
            ]
          },
          "metadata": {},
          "execution_count": 10
        }
      ]
    },
    {
      "cell_type": "markdown",
      "source": [
        "# Penggunaan Model"
      ],
      "metadata": {
        "id": "Jkf_exIYKw2P"
      }
    },
    {
      "cell_type": "code",
      "source": [
        "df_test_knn = df_test.copy()"
      ],
      "metadata": {
        "id": "NUkkkijvK0YY"
      },
      "execution_count": null,
      "outputs": []
    },
    {
      "cell_type": "code",
      "source": [
        "df_test_knn['is_churn'] = KNN.predict(df_test)"
      ],
      "metadata": {
        "id": "IReaO4RlK4CB"
      },
      "execution_count": null,
      "outputs": []
    },
    {
      "cell_type": "code",
      "source": [
        "df_test_knn.sample(3)"
      ],
      "metadata": {
        "colab": {
          "base_uri": "https://localhost:8080/",
          "height": 143
        },
        "id": "letFDmhFK6Y5",
        "outputId": "3c3fbca3-22c4-4398-e7e9-8f84d7d4982d"
      },
      "execution_count": null,
      "outputs": [
        {
          "output_type": "execute_result",
          "data": {
            "text/plain": [
              "        payment_method  payment_status  promo_amount  promo_code  \\\n",
              "241905               3               0             0           8   \n",
              "329744               1               1             0           8   \n",
              "595565               0               1             0           8   \n",
              "\n",
              "        shipment_fee  total_amount  quantity  item_price  shipment_duration  \\\n",
              "241905         10000        251351         1      241351                  4   \n",
              "329744         50000       4874157         3      257760                  3   \n",
              "595565         10000       4303523         1      213198                  5   \n",
              "\n",
              "        event_name  traffic_source  is_churn  \n",
              "241905           3               0         0  \n",
              "329744           1               0         0  \n",
              "595565           8               0         0  "
            ],
            "text/html": [
              "\n",
              "  <div id=\"df-82f85ff4-b77b-4ce0-8cca-730400f034f6\">\n",
              "    <div class=\"colab-df-container\">\n",
              "      <div>\n",
              "<style scoped>\n",
              "    .dataframe tbody tr th:only-of-type {\n",
              "        vertical-align: middle;\n",
              "    }\n",
              "\n",
              "    .dataframe tbody tr th {\n",
              "        vertical-align: top;\n",
              "    }\n",
              "\n",
              "    .dataframe thead th {\n",
              "        text-align: right;\n",
              "    }\n",
              "</style>\n",
              "<table border=\"1\" class=\"dataframe\">\n",
              "  <thead>\n",
              "    <tr style=\"text-align: right;\">\n",
              "      <th></th>\n",
              "      <th>payment_method</th>\n",
              "      <th>payment_status</th>\n",
              "      <th>promo_amount</th>\n",
              "      <th>promo_code</th>\n",
              "      <th>shipment_fee</th>\n",
              "      <th>total_amount</th>\n",
              "      <th>quantity</th>\n",
              "      <th>item_price</th>\n",
              "      <th>shipment_duration</th>\n",
              "      <th>event_name</th>\n",
              "      <th>traffic_source</th>\n",
              "      <th>is_churn</th>\n",
              "    </tr>\n",
              "  </thead>\n",
              "  <tbody>\n",
              "    <tr>\n",
              "      <th>241905</th>\n",
              "      <td>3</td>\n",
              "      <td>0</td>\n",
              "      <td>0</td>\n",
              "      <td>8</td>\n",
              "      <td>10000</td>\n",
              "      <td>251351</td>\n",
              "      <td>1</td>\n",
              "      <td>241351</td>\n",
              "      <td>4</td>\n",
              "      <td>3</td>\n",
              "      <td>0</td>\n",
              "      <td>0</td>\n",
              "    </tr>\n",
              "    <tr>\n",
              "      <th>329744</th>\n",
              "      <td>1</td>\n",
              "      <td>1</td>\n",
              "      <td>0</td>\n",
              "      <td>8</td>\n",
              "      <td>50000</td>\n",
              "      <td>4874157</td>\n",
              "      <td>3</td>\n",
              "      <td>257760</td>\n",
              "      <td>3</td>\n",
              "      <td>1</td>\n",
              "      <td>0</td>\n",
              "      <td>0</td>\n",
              "    </tr>\n",
              "    <tr>\n",
              "      <th>595565</th>\n",
              "      <td>0</td>\n",
              "      <td>1</td>\n",
              "      <td>0</td>\n",
              "      <td>8</td>\n",
              "      <td>10000</td>\n",
              "      <td>4303523</td>\n",
              "      <td>1</td>\n",
              "      <td>213198</td>\n",
              "      <td>5</td>\n",
              "      <td>8</td>\n",
              "      <td>0</td>\n",
              "      <td>0</td>\n",
              "    </tr>\n",
              "  </tbody>\n",
              "</table>\n",
              "</div>\n",
              "      <button class=\"colab-df-convert\" onclick=\"convertToInteractive('df-82f85ff4-b77b-4ce0-8cca-730400f034f6')\"\n",
              "              title=\"Convert this dataframe to an interactive table.\"\n",
              "              style=\"display:none;\">\n",
              "        \n",
              "  <svg xmlns=\"http://www.w3.org/2000/svg\" height=\"24px\"viewBox=\"0 0 24 24\"\n",
              "       width=\"24px\">\n",
              "    <path d=\"M0 0h24v24H0V0z\" fill=\"none\"/>\n",
              "    <path d=\"M18.56 5.44l.94 2.06.94-2.06 2.06-.94-2.06-.94-.94-2.06-.94 2.06-2.06.94zm-11 1L8.5 8.5l.94-2.06 2.06-.94-2.06-.94L8.5 2.5l-.94 2.06-2.06.94zm10 10l.94 2.06.94-2.06 2.06-.94-2.06-.94-.94-2.06-.94 2.06-2.06.94z\"/><path d=\"M17.41 7.96l-1.37-1.37c-.4-.4-.92-.59-1.43-.59-.52 0-1.04.2-1.43.59L10.3 9.45l-7.72 7.72c-.78.78-.78 2.05 0 2.83L4 21.41c.39.39.9.59 1.41.59.51 0 1.02-.2 1.41-.59l7.78-7.78 2.81-2.81c.8-.78.8-2.07 0-2.86zM5.41 20L4 18.59l7.72-7.72 1.47 1.35L5.41 20z\"/>\n",
              "  </svg>\n",
              "      </button>\n",
              "      \n",
              "  <style>\n",
              "    .colab-df-container {\n",
              "      display:flex;\n",
              "      flex-wrap:wrap;\n",
              "      gap: 12px;\n",
              "    }\n",
              "\n",
              "    .colab-df-convert {\n",
              "      background-color: #E8F0FE;\n",
              "      border: none;\n",
              "      border-radius: 50%;\n",
              "      cursor: pointer;\n",
              "      display: none;\n",
              "      fill: #1967D2;\n",
              "      height: 32px;\n",
              "      padding: 0 0 0 0;\n",
              "      width: 32px;\n",
              "    }\n",
              "\n",
              "    .colab-df-convert:hover {\n",
              "      background-color: #E2EBFA;\n",
              "      box-shadow: 0px 1px 2px rgba(60, 64, 67, 0.3), 0px 1px 3px 1px rgba(60, 64, 67, 0.15);\n",
              "      fill: #174EA6;\n",
              "    }\n",
              "\n",
              "    [theme=dark] .colab-df-convert {\n",
              "      background-color: #3B4455;\n",
              "      fill: #D2E3FC;\n",
              "    }\n",
              "\n",
              "    [theme=dark] .colab-df-convert:hover {\n",
              "      background-color: #434B5C;\n",
              "      box-shadow: 0px 1px 3px 1px rgba(0, 0, 0, 0.15);\n",
              "      filter: drop-shadow(0px 1px 2px rgba(0, 0, 0, 0.3));\n",
              "      fill: #FFFFFF;\n",
              "    }\n",
              "  </style>\n",
              "\n",
              "      <script>\n",
              "        const buttonEl =\n",
              "          document.querySelector('#df-82f85ff4-b77b-4ce0-8cca-730400f034f6 button.colab-df-convert');\n",
              "        buttonEl.style.display =\n",
              "          google.colab.kernel.accessAllowed ? 'block' : 'none';\n",
              "\n",
              "        async function convertToInteractive(key) {\n",
              "          const element = document.querySelector('#df-82f85ff4-b77b-4ce0-8cca-730400f034f6');\n",
              "          const dataTable =\n",
              "            await google.colab.kernel.invokeFunction('convertToInteractive',\n",
              "                                                     [key], {});\n",
              "          if (!dataTable) return;\n",
              "\n",
              "          const docLinkHtml = 'Like what you see? Visit the ' +\n",
              "            '<a target=\"_blank\" href=https://colab.research.google.com/notebooks/data_table.ipynb>data table notebook</a>'\n",
              "            + ' to learn more about interactive tables.';\n",
              "          element.innerHTML = '';\n",
              "          dataTable['output_type'] = 'display_data';\n",
              "          await google.colab.output.renderOutput(dataTable, element);\n",
              "          const docLink = document.createElement('div');\n",
              "          docLink.innerHTML = docLinkHtml;\n",
              "          element.appendChild(docLink);\n",
              "        }\n",
              "      </script>\n",
              "    </div>\n",
              "  </div>\n",
              "  "
            ]
          },
          "metadata": {},
          "execution_count": 13
        }
      ]
    },
    {
      "cell_type": "code",
      "source": [
        "X = df_test_knn.drop(columns=['is_churn'])\n",
        "y = df_test_knn['is_churn']\n",
        "\n",
        "X_train, X_test, y_train, y_test = train_test_split(X,y, test_size = 0.3, random_state = 42)"
      ],
      "metadata": {
        "id": "6bg4RhRbK9PG"
      },
      "execution_count": null,
      "outputs": []
    },
    {
      "cell_type": "code",
      "source": [
        "# Akurasi KNN\n",
        "from sklearn.neighbors import KNeighborsClassifier\n",
        "\n",
        "KNN = KNeighborsClassifier(n_neighbors = 5)\n",
        "KNN.fit(X_train, y_train)\n",
        "y_predict_KNN = KNN.predict(X_test)\n",
        "print('KNeighbors Accuracy : ', metrics.accuracy_score(y_test, y_predict_KNN))\n",
        "print(metrics.classification_report(y_test, y_predict_KNN))\n",
        "\n",
        "# Menyimpan hasil akurasi model\n",
        "knn = metrics.accuracy_score(y_test, y_predict_KNN)"
      ],
      "metadata": {
        "colab": {
          "base_uri": "https://localhost:8080/"
        },
        "id": "lKCj8N0EK_0m",
        "outputId": "4fa07771-e464-4993-a4ca-6ef82b237880"
      },
      "execution_count": null,
      "outputs": [
        {
          "output_type": "stream",
          "name": "stdout",
          "text": [
            "KNeighbors Accuracy :  0.9890760686121084\n",
            "              precision    recall  f1-score   support\n",
            "\n",
            "           0       0.99      0.99      0.99    120268\n",
            "           1       0.99      0.99      0.99     75266\n",
            "\n",
            "    accuracy                           0.99    195534\n",
            "   macro avg       0.99      0.99      0.99    195534\n",
            "weighted avg       0.99      0.99      0.99    195534\n",
            "\n"
          ]
        }
      ]
    },
    {
      "cell_type": "code",
      "source": [
        "#Akurasi Extra Trees\n",
        "from sklearn.ensemble import ExtraTreesClassifier\n",
        "\n",
        "ET = ExtraTreesClassifier(n_estimators=50)\n",
        "ET.fit(X_train, y_train)\n",
        "y_predict_ET = ET.predict(X_test)\n",
        "print('Extra Trees Accuracy : ', metrics.accuracy_score(y_test, y_predict_ET))\n",
        "print(metrics.classification_report(y_test, y_predict_ET))\n",
        "\n",
        "# Menyimpan hasil akurasi model\n",
        "et = metrics.accuracy_score(y_test, y_predict_ET)"
      ],
      "metadata": {
        "colab": {
          "base_uri": "https://localhost:8080/"
        },
        "id": "LTGGQfNvLFGm",
        "outputId": "a499bda1-15c7-4ccd-d4df-fe3d123216be"
      },
      "execution_count": null,
      "outputs": [
        {
          "output_type": "stream",
          "name": "stdout",
          "text": [
            "Extra Trees Accuracy :  0.9621395767488007\n",
            "              precision    recall  f1-score   support\n",
            "\n",
            "           0       0.96      0.97      0.97    120268\n",
            "           1       0.96      0.94      0.95     75266\n",
            "\n",
            "    accuracy                           0.96    195534\n",
            "   macro avg       0.96      0.96      0.96    195534\n",
            "weighted avg       0.96      0.96      0.96    195534\n",
            "\n"
          ]
        }
      ]
    },
    {
      "cell_type": "code",
      "source": [
        "#Akurasi Random Forest\n",
        "from sklearn.ensemble import RandomForestClassifier , GradientBoostingClassifier\n",
        "\n",
        "RF = RandomForestClassifier(n_estimators=50)\n",
        "RF.fit(X_train, y_train)\n",
        "y_predict_RF = RF.predict(X_test)\n",
        "print('Random Forest Accuracy : ', metrics.accuracy_score(y_test, y_predict_RF))\n",
        "print(metrics.classification_report(y_test, y_predict_RF))\n",
        "\n",
        "# Menyimpan hasil akurasi model\n",
        "rf = metrics.accuracy_score(y_test, y_predict_RF)"
      ],
      "metadata": {
        "colab": {
          "base_uri": "https://localhost:8080/"
        },
        "id": "Z__7FUuALF90",
        "outputId": "34dd1a55-7080-403b-ad19-b53e8aeb69d0"
      },
      "execution_count": null,
      "outputs": [
        {
          "output_type": "stream",
          "name": "stdout",
          "text": [
            "Random Forest Accuracy :  0.9787811838350363\n",
            "              precision    recall  f1-score   support\n",
            "\n",
            "           0       0.98      0.99      0.98    120268\n",
            "           1       0.98      0.96      0.97     75266\n",
            "\n",
            "    accuracy                           0.98    195534\n",
            "   macro avg       0.98      0.98      0.98    195534\n",
            "weighted avg       0.98      0.98      0.98    195534\n",
            "\n"
          ]
        }
      ]
    },
    {
      "cell_type": "code",
      "source": [
        "#Akurasi Decision Tree\n",
        "from sklearn import tree\n",
        "\n",
        "DT = tree.DecisionTreeClassifier()\n",
        "DT.fit(X_train, y_train)\n",
        "y_predict_DT = DT.predict(X_test)\n",
        "print('Decision Tree Accuracy : ', metrics.accuracy_score(y_test, y_predict_DT))\n",
        "print(metrics.classification_report(y_test, y_predict_DT))\n",
        "\n",
        "# Menyimpan hasil akurasi model\n",
        "dt = metrics.accuracy_score(y_test, y_predict_DT)"
      ],
      "metadata": {
        "colab": {
          "base_uri": "https://localhost:8080/"
        },
        "id": "vG9o-vu9TvU9",
        "outputId": "d10e39e0-53f0-45b3-f071-6bb57ee069b9"
      },
      "execution_count": null,
      "outputs": [
        {
          "output_type": "stream",
          "name": "stdout",
          "text": [
            "Decision Tree Accuracy :  0.9955199607229434\n",
            "              precision    recall  f1-score   support\n",
            "\n",
            "           0       1.00      1.00      1.00    120268\n",
            "           1       0.99      0.99      0.99     75266\n",
            "\n",
            "    accuracy                           1.00    195534\n",
            "   macro avg       1.00      1.00      1.00    195534\n",
            "weighted avg       1.00      1.00      1.00    195534\n",
            "\n"
          ]
        }
      ]
    },
    {
      "cell_type": "markdown",
      "source": [
        "# Perbandingan Akurasi Model"
      ],
      "metadata": {
        "id": "obNBBA3bTG51"
      }
    },
    {
      "cell_type": "code",
      "source": [
        "nama_model = ['KNeighbors Classifier','Extra Trees Classifier','Random Forest Classifier','Decision Tree Classifier']\n",
        "akurasi = [knn,et,rf,dt]\n",
        "\n",
        "tm = pd.DataFrame({'Nama Model': nama_model, \"Akurasi\" : akurasi})\n",
        "tm"
      ],
      "metadata": {
        "colab": {
          "base_uri": "https://localhost:8080/",
          "height": 175
        },
        "id": "ka7iGmwWTJ9e",
        "outputId": "b743481a-eccd-4f36-dca3-c5a2b47f724a"
      },
      "execution_count": null,
      "outputs": [
        {
          "output_type": "execute_result",
          "data": {
            "text/plain": [
              "                 Nama Model   Akurasi\n",
              "0     KNeighbors Classifier  0.989076\n",
              "1    Extra Trees Classifier  0.962140\n",
              "2  Random Forest Classifier  0.978781\n",
              "3  Decision Tree Classifier  0.995520"
            ],
            "text/html": [
              "\n",
              "  <div id=\"df-caa7f70c-7aca-429b-8e47-6071b3083572\">\n",
              "    <div class=\"colab-df-container\">\n",
              "      <div>\n",
              "<style scoped>\n",
              "    .dataframe tbody tr th:only-of-type {\n",
              "        vertical-align: middle;\n",
              "    }\n",
              "\n",
              "    .dataframe tbody tr th {\n",
              "        vertical-align: top;\n",
              "    }\n",
              "\n",
              "    .dataframe thead th {\n",
              "        text-align: right;\n",
              "    }\n",
              "</style>\n",
              "<table border=\"1\" class=\"dataframe\">\n",
              "  <thead>\n",
              "    <tr style=\"text-align: right;\">\n",
              "      <th></th>\n",
              "      <th>Nama Model</th>\n",
              "      <th>Akurasi</th>\n",
              "    </tr>\n",
              "  </thead>\n",
              "  <tbody>\n",
              "    <tr>\n",
              "      <th>0</th>\n",
              "      <td>KNeighbors Classifier</td>\n",
              "      <td>0.989076</td>\n",
              "    </tr>\n",
              "    <tr>\n",
              "      <th>1</th>\n",
              "      <td>Extra Trees Classifier</td>\n",
              "      <td>0.962140</td>\n",
              "    </tr>\n",
              "    <tr>\n",
              "      <th>2</th>\n",
              "      <td>Random Forest Classifier</td>\n",
              "      <td>0.978781</td>\n",
              "    </tr>\n",
              "    <tr>\n",
              "      <th>3</th>\n",
              "      <td>Decision Tree Classifier</td>\n",
              "      <td>0.995520</td>\n",
              "    </tr>\n",
              "  </tbody>\n",
              "</table>\n",
              "</div>\n",
              "      <button class=\"colab-df-convert\" onclick=\"convertToInteractive('df-caa7f70c-7aca-429b-8e47-6071b3083572')\"\n",
              "              title=\"Convert this dataframe to an interactive table.\"\n",
              "              style=\"display:none;\">\n",
              "        \n",
              "  <svg xmlns=\"http://www.w3.org/2000/svg\" height=\"24px\"viewBox=\"0 0 24 24\"\n",
              "       width=\"24px\">\n",
              "    <path d=\"M0 0h24v24H0V0z\" fill=\"none\"/>\n",
              "    <path d=\"M18.56 5.44l.94 2.06.94-2.06 2.06-.94-2.06-.94-.94-2.06-.94 2.06-2.06.94zm-11 1L8.5 8.5l.94-2.06 2.06-.94-2.06-.94L8.5 2.5l-.94 2.06-2.06.94zm10 10l.94 2.06.94-2.06 2.06-.94-2.06-.94-.94-2.06-.94 2.06-2.06.94z\"/><path d=\"M17.41 7.96l-1.37-1.37c-.4-.4-.92-.59-1.43-.59-.52 0-1.04.2-1.43.59L10.3 9.45l-7.72 7.72c-.78.78-.78 2.05 0 2.83L4 21.41c.39.39.9.59 1.41.59.51 0 1.02-.2 1.41-.59l7.78-7.78 2.81-2.81c.8-.78.8-2.07 0-2.86zM5.41 20L4 18.59l7.72-7.72 1.47 1.35L5.41 20z\"/>\n",
              "  </svg>\n",
              "      </button>\n",
              "      \n",
              "  <style>\n",
              "    .colab-df-container {\n",
              "      display:flex;\n",
              "      flex-wrap:wrap;\n",
              "      gap: 12px;\n",
              "    }\n",
              "\n",
              "    .colab-df-convert {\n",
              "      background-color: #E8F0FE;\n",
              "      border: none;\n",
              "      border-radius: 50%;\n",
              "      cursor: pointer;\n",
              "      display: none;\n",
              "      fill: #1967D2;\n",
              "      height: 32px;\n",
              "      padding: 0 0 0 0;\n",
              "      width: 32px;\n",
              "    }\n",
              "\n",
              "    .colab-df-convert:hover {\n",
              "      background-color: #E2EBFA;\n",
              "      box-shadow: 0px 1px 2px rgba(60, 64, 67, 0.3), 0px 1px 3px 1px rgba(60, 64, 67, 0.15);\n",
              "      fill: #174EA6;\n",
              "    }\n",
              "\n",
              "    [theme=dark] .colab-df-convert {\n",
              "      background-color: #3B4455;\n",
              "      fill: #D2E3FC;\n",
              "    }\n",
              "\n",
              "    [theme=dark] .colab-df-convert:hover {\n",
              "      background-color: #434B5C;\n",
              "      box-shadow: 0px 1px 3px 1px rgba(0, 0, 0, 0.15);\n",
              "      filter: drop-shadow(0px 1px 2px rgba(0, 0, 0, 0.3));\n",
              "      fill: #FFFFFF;\n",
              "    }\n",
              "  </style>\n",
              "\n",
              "      <script>\n",
              "        const buttonEl =\n",
              "          document.querySelector('#df-caa7f70c-7aca-429b-8e47-6071b3083572 button.colab-df-convert');\n",
              "        buttonEl.style.display =\n",
              "          google.colab.kernel.accessAllowed ? 'block' : 'none';\n",
              "\n",
              "        async function convertToInteractive(key) {\n",
              "          const element = document.querySelector('#df-caa7f70c-7aca-429b-8e47-6071b3083572');\n",
              "          const dataTable =\n",
              "            await google.colab.kernel.invokeFunction('convertToInteractive',\n",
              "                                                     [key], {});\n",
              "          if (!dataTable) return;\n",
              "\n",
              "          const docLinkHtml = 'Like what you see? Visit the ' +\n",
              "            '<a target=\"_blank\" href=https://colab.research.google.com/notebooks/data_table.ipynb>data table notebook</a>'\n",
              "            + ' to learn more about interactive tables.';\n",
              "          element.innerHTML = '';\n",
              "          dataTable['output_type'] = 'display_data';\n",
              "          await google.colab.output.renderOutput(dataTable, element);\n",
              "          const docLink = document.createElement('div');\n",
              "          docLink.innerHTML = docLinkHtml;\n",
              "          element.appendChild(docLink);\n",
              "        }\n",
              "      </script>\n",
              "    </div>\n",
              "  </div>\n",
              "  "
            ]
          },
          "metadata": {},
          "execution_count": 19
        }
      ]
    },
    {
      "cell_type": "code",
      "source": [
        "tm.sort_values(by=['Akurasi'], ascending=False)"
      ],
      "metadata": {
        "colab": {
          "base_uri": "https://localhost:8080/",
          "height": 175
        },
        "id": "muWW3xQYUfLA",
        "outputId": "c8a37ff3-cd71-4fe4-8025-60ada86423fd"
      },
      "execution_count": null,
      "outputs": [
        {
          "output_type": "execute_result",
          "data": {
            "text/plain": [
              "                 Nama Model   Akurasi\n",
              "3  Decision Tree Classifier  0.995520\n",
              "0     KNeighbors Classifier  0.989076\n",
              "2  Random Forest Classifier  0.978781\n",
              "1    Extra Trees Classifier  0.962140"
            ],
            "text/html": [
              "\n",
              "  <div id=\"df-4b087eb8-4b9f-4e52-ac5f-d69c70d11d58\">\n",
              "    <div class=\"colab-df-container\">\n",
              "      <div>\n",
              "<style scoped>\n",
              "    .dataframe tbody tr th:only-of-type {\n",
              "        vertical-align: middle;\n",
              "    }\n",
              "\n",
              "    .dataframe tbody tr th {\n",
              "        vertical-align: top;\n",
              "    }\n",
              "\n",
              "    .dataframe thead th {\n",
              "        text-align: right;\n",
              "    }\n",
              "</style>\n",
              "<table border=\"1\" class=\"dataframe\">\n",
              "  <thead>\n",
              "    <tr style=\"text-align: right;\">\n",
              "      <th></th>\n",
              "      <th>Nama Model</th>\n",
              "      <th>Akurasi</th>\n",
              "    </tr>\n",
              "  </thead>\n",
              "  <tbody>\n",
              "    <tr>\n",
              "      <th>3</th>\n",
              "      <td>Decision Tree Classifier</td>\n",
              "      <td>0.995520</td>\n",
              "    </tr>\n",
              "    <tr>\n",
              "      <th>0</th>\n",
              "      <td>KNeighbors Classifier</td>\n",
              "      <td>0.989076</td>\n",
              "    </tr>\n",
              "    <tr>\n",
              "      <th>2</th>\n",
              "      <td>Random Forest Classifier</td>\n",
              "      <td>0.978781</td>\n",
              "    </tr>\n",
              "    <tr>\n",
              "      <th>1</th>\n",
              "      <td>Extra Trees Classifier</td>\n",
              "      <td>0.962140</td>\n",
              "    </tr>\n",
              "  </tbody>\n",
              "</table>\n",
              "</div>\n",
              "      <button class=\"colab-df-convert\" onclick=\"convertToInteractive('df-4b087eb8-4b9f-4e52-ac5f-d69c70d11d58')\"\n",
              "              title=\"Convert this dataframe to an interactive table.\"\n",
              "              style=\"display:none;\">\n",
              "        \n",
              "  <svg xmlns=\"http://www.w3.org/2000/svg\" height=\"24px\"viewBox=\"0 0 24 24\"\n",
              "       width=\"24px\">\n",
              "    <path d=\"M0 0h24v24H0V0z\" fill=\"none\"/>\n",
              "    <path d=\"M18.56 5.44l.94 2.06.94-2.06 2.06-.94-2.06-.94-.94-2.06-.94 2.06-2.06.94zm-11 1L8.5 8.5l.94-2.06 2.06-.94-2.06-.94L8.5 2.5l-.94 2.06-2.06.94zm10 10l.94 2.06.94-2.06 2.06-.94-2.06-.94-.94-2.06-.94 2.06-2.06.94z\"/><path d=\"M17.41 7.96l-1.37-1.37c-.4-.4-.92-.59-1.43-.59-.52 0-1.04.2-1.43.59L10.3 9.45l-7.72 7.72c-.78.78-.78 2.05 0 2.83L4 21.41c.39.39.9.59 1.41.59.51 0 1.02-.2 1.41-.59l7.78-7.78 2.81-2.81c.8-.78.8-2.07 0-2.86zM5.41 20L4 18.59l7.72-7.72 1.47 1.35L5.41 20z\"/>\n",
              "  </svg>\n",
              "      </button>\n",
              "      \n",
              "  <style>\n",
              "    .colab-df-container {\n",
              "      display:flex;\n",
              "      flex-wrap:wrap;\n",
              "      gap: 12px;\n",
              "    }\n",
              "\n",
              "    .colab-df-convert {\n",
              "      background-color: #E8F0FE;\n",
              "      border: none;\n",
              "      border-radius: 50%;\n",
              "      cursor: pointer;\n",
              "      display: none;\n",
              "      fill: #1967D2;\n",
              "      height: 32px;\n",
              "      padding: 0 0 0 0;\n",
              "      width: 32px;\n",
              "    }\n",
              "\n",
              "    .colab-df-convert:hover {\n",
              "      background-color: #E2EBFA;\n",
              "      box-shadow: 0px 1px 2px rgba(60, 64, 67, 0.3), 0px 1px 3px 1px rgba(60, 64, 67, 0.15);\n",
              "      fill: #174EA6;\n",
              "    }\n",
              "\n",
              "    [theme=dark] .colab-df-convert {\n",
              "      background-color: #3B4455;\n",
              "      fill: #D2E3FC;\n",
              "    }\n",
              "\n",
              "    [theme=dark] .colab-df-convert:hover {\n",
              "      background-color: #434B5C;\n",
              "      box-shadow: 0px 1px 3px 1px rgba(0, 0, 0, 0.15);\n",
              "      filter: drop-shadow(0px 1px 2px rgba(0, 0, 0, 0.3));\n",
              "      fill: #FFFFFF;\n",
              "    }\n",
              "  </style>\n",
              "\n",
              "      <script>\n",
              "        const buttonEl =\n",
              "          document.querySelector('#df-4b087eb8-4b9f-4e52-ac5f-d69c70d11d58 button.colab-df-convert');\n",
              "        buttonEl.style.display =\n",
              "          google.colab.kernel.accessAllowed ? 'block' : 'none';\n",
              "\n",
              "        async function convertToInteractive(key) {\n",
              "          const element = document.querySelector('#df-4b087eb8-4b9f-4e52-ac5f-d69c70d11d58');\n",
              "          const dataTable =\n",
              "            await google.colab.kernel.invokeFunction('convertToInteractive',\n",
              "                                                     [key], {});\n",
              "          if (!dataTable) return;\n",
              "\n",
              "          const docLinkHtml = 'Like what you see? Visit the ' +\n",
              "            '<a target=\"_blank\" href=https://colab.research.google.com/notebooks/data_table.ipynb>data table notebook</a>'\n",
              "            + ' to learn more about interactive tables.';\n",
              "          element.innerHTML = '';\n",
              "          dataTable['output_type'] = 'display_data';\n",
              "          await google.colab.output.renderOutput(dataTable, element);\n",
              "          const docLink = document.createElement('div');\n",
              "          docLink.innerHTML = docLinkHtml;\n",
              "          element.appendChild(docLink);\n",
              "        }\n",
              "      </script>\n",
              "    </div>\n",
              "  </div>\n",
              "  "
            ]
          },
          "metadata": {},
          "execution_count": 20
        }
      ]
    },
    {
      "cell_type": "markdown",
      "source": [
        "# Kesimpulan"
      ],
      "metadata": {
        "id": "fz7djcDeUqBE"
      }
    },
    {
      "cell_type": "markdown",
      "source": [
        "Model terbaik dari hasil yang telah didapat ialah **KNeighbors Classifier**. Model ini Memiliki akurasi tinggi dengan f-1 score untuk kedua label (0 dan 1) adalah 0,99. Decision Tree mempunyai hasil akurasi paling tinggi, namun f-1 score pada label 0 menghasilkan angka 1."
      ],
      "metadata": {
        "id": "R7tuc9DFUu_t"
      }
    },
    {
      "cell_type": "markdown",
      "source": [
        "Jumlah dan persentase perbandingan churn customer pada bulan 7"
      ],
      "metadata": {
        "id": "UpyRBPEJtDn_"
      }
    },
    {
      "cell_type": "code",
      "source": [
        "df_test_knn['is_churn'].value_counts()"
      ],
      "metadata": {
        "colab": {
          "base_uri": "https://localhost:8080/"
        },
        "id": "VrsnxP0atlBW",
        "outputId": "3612f33f-6487-450a-c96e-9ea45e6025c7"
      },
      "execution_count": null,
      "outputs": [
        {
          "output_type": "execute_result",
          "data": {
            "text/plain": [
              "0    399825\n",
              "1    251954\n",
              "Name: is_churn, dtype: int64"
            ]
          },
          "metadata": {},
          "execution_count": 23
        }
      ]
    },
    {
      "cell_type": "code",
      "source": [
        "df_test_knn['is_churn'].value_counts().plot(kind='pie',autopct='%1.1f%%')"
      ],
      "metadata": {
        "colab": {
          "base_uri": "https://localhost:8080/",
          "height": 266
        },
        "id": "OK-2rIR7s2s8",
        "outputId": "c511fa90-5f1c-4942-d6ea-f5864ff85400"
      },
      "execution_count": null,
      "outputs": [
        {
          "output_type": "execute_result",
          "data": {
            "text/plain": [
              "<matplotlib.axes._subplots.AxesSubplot at 0x7feec5c39810>"
            ]
          },
          "metadata": {},
          "execution_count": 22
        },
        {
          "output_type": "display_data",
          "data": {
            "text/plain": [
              "<Figure size 432x288 with 1 Axes>"
            ],
            "image/png": "[encoded data removed]"
          },
          "metadata": {}
        }
      ]
    }
  ]
}